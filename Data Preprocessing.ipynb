{
 "cells": [
  {
   "cell_type": "code",
   "execution_count": 47,
   "id": "5f5d1d42",
   "metadata": {},
   "outputs": [],
   "source": [
    "#Importing necessary Libraries\n",
    "%matplotlib inline\n",
    "import pandas as pd\n",
    "import numpy as np\n",
    "import nltk\n",
    "import string\n",
    "import matplotlib.pyplot as plt\n",
    "import seaborn as sns\n",
    "from sklearn.model_selection import train_test_split"
   ]
  },
  {
   "cell_type": "code",
   "execution_count": 2,
   "id": "323e5f14",
   "metadata": {},
   "outputs": [],
   "source": [
    "import warnings\n",
    "warnings.filterwarnings(\"ignore\")"
   ]
  },
  {
   "cell_type": "code",
   "execution_count": null,
   "id": "6ab71bcc",
   "metadata": {},
   "outputs": [],
   "source": [
    "structure_data=pd.read_csv(\"/home/devendra/Documents/mycodes/Earthquake_data/nepal_data/csv_building_structure.csv\")\n",
    "damage_data=pd.read_csv(\"/home/devendra/Documents/mycodes/Earthquake_data/nepal_data/csv_building_damage_assessment.csv\")\n",
    "ownership_data=pd.read_csv(\"/home/devendra/Documents/mycodes/Earthquake_data/nepal_data/csv_building_ownership_and_use.csv\")"
   ]
  },
  {
   "cell_type": "markdown",
   "id": "636ebe76",
   "metadata": {},
   "source": [
    "# Structure Data"
   ]
  },
  {
   "cell_type": "code",
   "execution_count": 4,
   "id": "a98e8170",
   "metadata": {},
   "outputs": [
    {
     "data": {
      "text/plain": [
       "(762106, 31)"
      ]
     },
     "execution_count": 4,
     "metadata": {},
     "output_type": "execute_result"
    }
   ],
   "source": [
    "structure_data.shape"
   ]
  },
  {
   "cell_type": "code",
   "execution_count": 5,
   "id": "44ed1523",
   "metadata": {},
   "outputs": [
    {
     "data": {
      "text/html": [
       "<div>\n",
       "<style scoped>\n",
       "    .dataframe tbody tr th:only-of-type {\n",
       "        vertical-align: middle;\n",
       "    }\n",
       "\n",
       "    .dataframe tbody tr th {\n",
       "        vertical-align: top;\n",
       "    }\n",
       "\n",
       "    .dataframe thead th {\n",
       "        text-align: right;\n",
       "    }\n",
       "</style>\n",
       "<table border=\"1\" class=\"dataframe\">\n",
       "  <thead>\n",
       "    <tr style=\"text-align: right;\">\n",
       "      <th></th>\n",
       "      <th>building_id</th>\n",
       "      <th>district_id</th>\n",
       "      <th>vdcmun_id</th>\n",
       "      <th>ward_id</th>\n",
       "      <th>count_floors_pre_eq</th>\n",
       "      <th>count_floors_post_eq</th>\n",
       "      <th>age_building</th>\n",
       "      <th>plinth_area_sq_ft</th>\n",
       "      <th>height_ft_pre_eq</th>\n",
       "      <th>height_ft_post_eq</th>\n",
       "      <th>...</th>\n",
       "      <th>has_superstructure_mud_mortar_brick</th>\n",
       "      <th>has_superstructure_cement_mortar_brick</th>\n",
       "      <th>has_superstructure_timber</th>\n",
       "      <th>has_superstructure_bamboo</th>\n",
       "      <th>has_superstructure_rc_non_engineered</th>\n",
       "      <th>has_superstructure_rc_engineered</th>\n",
       "      <th>has_superstructure_other</th>\n",
       "      <th>condition_post_eq</th>\n",
       "      <th>damage_grade</th>\n",
       "      <th>technical_solution_proposed</th>\n",
       "    </tr>\n",
       "  </thead>\n",
       "  <tbody>\n",
       "    <tr>\n",
       "      <th>0</th>\n",
       "      <td>120101000011</td>\n",
       "      <td>12</td>\n",
       "      <td>1207</td>\n",
       "      <td>120703</td>\n",
       "      <td>1</td>\n",
       "      <td>1</td>\n",
       "      <td>9</td>\n",
       "      <td>288</td>\n",
       "      <td>9</td>\n",
       "      <td>9</td>\n",
       "      <td>...</td>\n",
       "      <td>0</td>\n",
       "      <td>0</td>\n",
       "      <td>0</td>\n",
       "      <td>1</td>\n",
       "      <td>0</td>\n",
       "      <td>0</td>\n",
       "      <td>0</td>\n",
       "      <td>Damaged-Used in risk</td>\n",
       "      <td>Grade 3</td>\n",
       "      <td>Major repair</td>\n",
       "    </tr>\n",
       "    <tr>\n",
       "      <th>1</th>\n",
       "      <td>120101000021</td>\n",
       "      <td>12</td>\n",
       "      <td>1207</td>\n",
       "      <td>120703</td>\n",
       "      <td>1</td>\n",
       "      <td>1</td>\n",
       "      <td>15</td>\n",
       "      <td>364</td>\n",
       "      <td>9</td>\n",
       "      <td>9</td>\n",
       "      <td>...</td>\n",
       "      <td>0</td>\n",
       "      <td>0</td>\n",
       "      <td>0</td>\n",
       "      <td>1</td>\n",
       "      <td>0</td>\n",
       "      <td>0</td>\n",
       "      <td>0</td>\n",
       "      <td>Damaged-Repaired and used</td>\n",
       "      <td>Grade 5</td>\n",
       "      <td>Reconstruction</td>\n",
       "    </tr>\n",
       "  </tbody>\n",
       "</table>\n",
       "<p>2 rows × 31 columns</p>\n",
       "</div>"
      ],
      "text/plain": [
       "    building_id  district_id  vdcmun_id  ward_id  count_floors_pre_eq  \\\n",
       "0  120101000011           12       1207   120703                    1   \n",
       "1  120101000021           12       1207   120703                    1   \n",
       "\n",
       "   count_floors_post_eq  age_building  plinth_area_sq_ft  height_ft_pre_eq  \\\n",
       "0                     1             9                288                 9   \n",
       "1                     1            15                364                 9   \n",
       "\n",
       "   height_ft_post_eq  ... has_superstructure_mud_mortar_brick  \\\n",
       "0                  9  ...                                   0   \n",
       "1                  9  ...                                   0   \n",
       "\n",
       "  has_superstructure_cement_mortar_brick has_superstructure_timber  \\\n",
       "0                                      0                         0   \n",
       "1                                      0                         0   \n",
       "\n",
       "  has_superstructure_bamboo has_superstructure_rc_non_engineered  \\\n",
       "0                         1                                    0   \n",
       "1                         1                                    0   \n",
       "\n",
       "  has_superstructure_rc_engineered has_superstructure_other  \\\n",
       "0                                0                        0   \n",
       "1                                0                        0   \n",
       "\n",
       "           condition_post_eq  damage_grade  technical_solution_proposed  \n",
       "0       Damaged-Used in risk       Grade 3                 Major repair  \n",
       "1  Damaged-Repaired and used       Grade 5               Reconstruction  \n",
       "\n",
       "[2 rows x 31 columns]"
      ]
     },
     "execution_count": 5,
     "metadata": {},
     "output_type": "execute_result"
    }
   ],
   "source": [
    "structure_data.head(2)"
   ]
  },
  {
   "cell_type": "code",
   "execution_count": 7,
   "id": "ea7a6c11",
   "metadata": {},
   "outputs": [],
   "source": [
    "cols_to_drop=['condition_post_eq','technical_solution_proposed']"
   ]
  },
  {
   "cell_type": "code",
   "execution_count": 8,
   "id": "ad4b39f2",
   "metadata": {},
   "outputs": [
    {
     "data": {
      "text/plain": [
       "(762106, 29)"
      ]
     },
     "execution_count": 8,
     "metadata": {},
     "output_type": "execute_result"
    }
   ],
   "source": [
    "structure_data=structure_data.drop(cols_to_drop,axis=1)\n",
    "structure_data.shape"
   ]
  },
  {
   "cell_type": "markdown",
   "id": "2efbc303",
   "metadata": {},
   "source": [
    "# Damage Data"
   ]
  },
  {
   "cell_type": "code",
   "execution_count": 9,
   "id": "aa82f75b",
   "metadata": {},
   "outputs": [
    {
     "data": {
      "text/plain": [
       "(762106, 79)"
      ]
     },
     "execution_count": 9,
     "metadata": {},
     "output_type": "execute_result"
    }
   ],
   "source": [
    "damage_data.shape"
   ]
  },
  {
   "cell_type": "code",
   "execution_count": 10,
   "id": "4f10445d",
   "metadata": {},
   "outputs": [
    {
     "data": {
      "text/plain": [
       "Index(['building_id', 'district_id', 'vdcmun_id', 'ward_id',\n",
       "       'damage_overall_collapse', 'damage_overall_leaning',\n",
       "       'damage_overall_adjacent_building_risk', 'damage_foundation_severe',\n",
       "       'damage_foundation_moderate', 'damage_foundation_insignificant',\n",
       "       'damage_roof_severe', 'damage_roof_moderate',\n",
       "       'damage_roof_insignificant', 'damage_corner_separation_severe',\n",
       "       'damage_corner_separation_moderate',\n",
       "       'damage_corner_separation_insignificant',\n",
       "       'damage_diagonal_cracking_severe', 'damage_diagonal_cracking_moderate',\n",
       "       'damage_diagonal_cracking_insignificant',\n",
       "       'damage_in_plane_failure_severe', 'damage_in_plane_failure_moderate',\n",
       "       'damage_in_plane_failure_insignificant',\n",
       "       'damage_out_of_plane_failure_severe',\n",
       "       'damage_out_of_plane_failure_moderate',\n",
       "       'damage_out_of_plane_failure_insignificant',\n",
       "       'damage_out_of_plane_failure_walls_ncfr_severe',\n",
       "       'damage_out_of_plane_failure_walls_ncfr_moderate',\n",
       "       'damage_out_of_plane_failure_walls_ncfr_insignificant',\n",
       "       'damage_gable_failure_severe', 'damage_gable_failure_moderate',\n",
       "       'damage_gable_failure_insignificant',\n",
       "       'damage_delamination_failure_severe',\n",
       "       'damage_delamination_failure_moderate',\n",
       "       'damage_delamination_failure_insignificant',\n",
       "       'damage_column_failure_severe', 'damage_column_failure_moderate',\n",
       "       'damage_column_failure_insignificant', 'damage_beam_failure_severe',\n",
       "       'damage_beam_failure_moderate', 'damage_beam_failure_insignificant',\n",
       "       'damage_infill_partition_failure_severe',\n",
       "       'damage_infill_partition_failure_moderate',\n",
       "       'damage_infill_partition_failure_insignificant',\n",
       "       'damage_staircase_severe', 'damage_staircase_moderate',\n",
       "       'damage_staircase_insignificant', 'damage_parapet_severe',\n",
       "       'damage_parapet_moderate', 'damage_parapet_insignificant',\n",
       "       'damage_cladding_glazing_severe', 'damage_cladding_glazing_moderate',\n",
       "       'damage_cladding_glazing_insignificant', 'area_assesed', 'damage_grade',\n",
       "       'technical_solution_proposed', 'has_repair_started',\n",
       "       'has_damage_foundation', 'has_damage_roof',\n",
       "       'has_damage_corner_separation', 'has_damage_diagonal_cracking',\n",
       "       'has_damage_in_plane_failure', 'has_damage_out_of_plane_failure',\n",
       "       'has_damage_out_of_plane_walls_ncfr_failure',\n",
       "       'has_damage_gable_failure', 'has_damage_delamination_failure',\n",
       "       'has_damage_column_failure', 'has_damage_beam_failure',\n",
       "       'has_damage_infill_partition_failure', 'has_damage_staircase',\n",
       "       'has_damage_parapet', 'has_damage_cladding_glazing',\n",
       "       'has_geotechnical_risk', 'has_geotechnical_risk_land_settlement',\n",
       "       'has_geotechnical_risk_fault_crack',\n",
       "       'has_geotechnical_risk_liquefaction', 'has_geotechnical_risk_landslide',\n",
       "       'has_geotechnical_risk_rock_fall', 'has_geotechnical_risk_flood',\n",
       "       'has_geotechnical_risk_other'],\n",
       "      dtype='object')"
      ]
     },
     "execution_count": 10,
     "metadata": {},
     "output_type": "execute_result"
    }
   ],
   "source": [
    "damage_data.columns"
   ]
  },
  {
   "cell_type": "code",
   "execution_count": 11,
   "id": "2ec189c8",
   "metadata": {},
   "outputs": [
    {
     "data": {
      "text/html": [
       "<div>\n",
       "<style scoped>\n",
       "    .dataframe tbody tr th:only-of-type {\n",
       "        vertical-align: middle;\n",
       "    }\n",
       "\n",
       "    .dataframe tbody tr th {\n",
       "        vertical-align: top;\n",
       "    }\n",
       "\n",
       "    .dataframe thead th {\n",
       "        text-align: right;\n",
       "    }\n",
       "</style>\n",
       "<table border=\"1\" class=\"dataframe\">\n",
       "  <thead>\n",
       "    <tr style=\"text-align: right;\">\n",
       "      <th></th>\n",
       "      <th>building_id</th>\n",
       "      <th>district_id</th>\n",
       "      <th>vdcmun_id</th>\n",
       "      <th>ward_id</th>\n",
       "      <th>damage_overall_collapse</th>\n",
       "      <th>damage_overall_leaning</th>\n",
       "      <th>damage_overall_adjacent_building_risk</th>\n",
       "      <th>damage_foundation_severe</th>\n",
       "      <th>damage_foundation_moderate</th>\n",
       "      <th>damage_foundation_insignificant</th>\n",
       "      <th>...</th>\n",
       "      <th>has_damage_parapet</th>\n",
       "      <th>has_damage_cladding_glazing</th>\n",
       "      <th>has_geotechnical_risk</th>\n",
       "      <th>has_geotechnical_risk_land_settlement</th>\n",
       "      <th>has_geotechnical_risk_fault_crack</th>\n",
       "      <th>has_geotechnical_risk_liquefaction</th>\n",
       "      <th>has_geotechnical_risk_landslide</th>\n",
       "      <th>has_geotechnical_risk_rock_fall</th>\n",
       "      <th>has_geotechnical_risk_flood</th>\n",
       "      <th>has_geotechnical_risk_other</th>\n",
       "    </tr>\n",
       "  </thead>\n",
       "  <tbody>\n",
       "    <tr>\n",
       "      <th>0</th>\n",
       "      <td>120101000011</td>\n",
       "      <td>12</td>\n",
       "      <td>1207</td>\n",
       "      <td>120703</td>\n",
       "      <td>Moderate-Heavy</td>\n",
       "      <td>Insignificant/light</td>\n",
       "      <td>None</td>\n",
       "      <td>NaN</td>\n",
       "      <td>Moderate-Heavy-(&lt;1/3)</td>\n",
       "      <td>Insignificant/light-(&lt;1/3)</td>\n",
       "      <td>...</td>\n",
       "      <td>0.0</td>\n",
       "      <td>0.0</td>\n",
       "      <td>0.0</td>\n",
       "      <td>0</td>\n",
       "      <td>0</td>\n",
       "      <td>0</td>\n",
       "      <td>0</td>\n",
       "      <td>0</td>\n",
       "      <td>0</td>\n",
       "      <td>0</td>\n",
       "    </tr>\n",
       "    <tr>\n",
       "      <th>1</th>\n",
       "      <td>120101000021</td>\n",
       "      <td>12</td>\n",
       "      <td>1207</td>\n",
       "      <td>120703</td>\n",
       "      <td>Severe-Extreme</td>\n",
       "      <td>Severe-Extreme</td>\n",
       "      <td>Insignificant/light</td>\n",
       "      <td>Severe-Extreme-(&gt;2/3)</td>\n",
       "      <td>NaN</td>\n",
       "      <td>NaN</td>\n",
       "      <td>...</td>\n",
       "      <td>0.0</td>\n",
       "      <td>0.0</td>\n",
       "      <td>0.0</td>\n",
       "      <td>0</td>\n",
       "      <td>0</td>\n",
       "      <td>0</td>\n",
       "      <td>0</td>\n",
       "      <td>0</td>\n",
       "      <td>0</td>\n",
       "      <td>0</td>\n",
       "    </tr>\n",
       "  </tbody>\n",
       "</table>\n",
       "<p>2 rows × 79 columns</p>\n",
       "</div>"
      ],
      "text/plain": [
       "    building_id  district_id  vdcmun_id  ward_id damage_overall_collapse  \\\n",
       "0  120101000011           12       1207   120703          Moderate-Heavy   \n",
       "1  120101000021           12       1207   120703          Severe-Extreme   \n",
       "\n",
       "  damage_overall_leaning damage_overall_adjacent_building_risk  \\\n",
       "0    Insignificant/light                                  None   \n",
       "1         Severe-Extreme                   Insignificant/light   \n",
       "\n",
       "  damage_foundation_severe damage_foundation_moderate  \\\n",
       "0                      NaN      Moderate-Heavy-(<1/3)   \n",
       "1    Severe-Extreme-(>2/3)                        NaN   \n",
       "\n",
       "  damage_foundation_insignificant  ... has_damage_parapet  \\\n",
       "0      Insignificant/light-(<1/3)  ...                0.0   \n",
       "1                             NaN  ...                0.0   \n",
       "\n",
       "  has_damage_cladding_glazing has_geotechnical_risk  \\\n",
       "0                         0.0                   0.0   \n",
       "1                         0.0                   0.0   \n",
       "\n",
       "  has_geotechnical_risk_land_settlement has_geotechnical_risk_fault_crack  \\\n",
       "0                                     0                                 0   \n",
       "1                                     0                                 0   \n",
       "\n",
       "  has_geotechnical_risk_liquefaction has_geotechnical_risk_landslide  \\\n",
       "0                                  0                               0   \n",
       "1                                  0                               0   \n",
       "\n",
       "  has_geotechnical_risk_rock_fall has_geotechnical_risk_flood  \\\n",
       "0                               0                           0   \n",
       "1                               0                           0   \n",
       "\n",
       "  has_geotechnical_risk_other  \n",
       "0                           0  \n",
       "1                           0  \n",
       "\n",
       "[2 rows x 79 columns]"
      ]
     },
     "execution_count": 11,
     "metadata": {},
     "output_type": "execute_result"
    }
   ],
   "source": [
    "damage_data.head(2)"
   ]
  },
  {
   "cell_type": "markdown",
   "id": "3c8dbd53",
   "metadata": {},
   "source": [
    "# Ownership Data"
   ]
  },
  {
   "cell_type": "code",
   "execution_count": 12,
   "id": "cbc4bfb8",
   "metadata": {},
   "outputs": [
    {
     "data": {
      "text/plain": [
       "(762106, 17)"
      ]
     },
     "execution_count": 12,
     "metadata": {},
     "output_type": "execute_result"
    }
   ],
   "source": [
    "ownership_data.shape"
   ]
  },
  {
   "cell_type": "code",
   "execution_count": 13,
   "id": "90974b58",
   "metadata": {},
   "outputs": [
    {
     "data": {
      "text/plain": [
       "Index(['building_id', 'district_id', 'vdcmun_id', 'ward_id',\n",
       "       'legal_ownership_status', 'count_families', 'has_secondary_use',\n",
       "       'has_secondary_use_agriculture', 'has_secondary_use_hotel',\n",
       "       'has_secondary_use_rental', 'has_secondary_use_institution',\n",
       "       'has_secondary_use_school', 'has_secondary_use_industry',\n",
       "       'has_secondary_use_health_post', 'has_secondary_use_gov_office',\n",
       "       'has_secondary_use_use_police', 'has_secondary_use_other'],\n",
       "      dtype='object')"
      ]
     },
     "execution_count": 13,
     "metadata": {},
     "output_type": "execute_result"
    }
   ],
   "source": [
    "ownership_data.columns"
   ]
  },
  {
   "cell_type": "code",
   "execution_count": 14,
   "id": "7e14b950",
   "metadata": {},
   "outputs": [
    {
     "data": {
      "text/html": [
       "<div>\n",
       "<style scoped>\n",
       "    .dataframe tbody tr th:only-of-type {\n",
       "        vertical-align: middle;\n",
       "    }\n",
       "\n",
       "    .dataframe tbody tr th {\n",
       "        vertical-align: top;\n",
       "    }\n",
       "\n",
       "    .dataframe thead th {\n",
       "        text-align: right;\n",
       "    }\n",
       "</style>\n",
       "<table border=\"1\" class=\"dataframe\">\n",
       "  <thead>\n",
       "    <tr style=\"text-align: right;\">\n",
       "      <th></th>\n",
       "      <th>building_id</th>\n",
       "      <th>district_id</th>\n",
       "      <th>vdcmun_id</th>\n",
       "      <th>ward_id</th>\n",
       "      <th>legal_ownership_status</th>\n",
       "      <th>count_families</th>\n",
       "      <th>has_secondary_use</th>\n",
       "      <th>has_secondary_use_agriculture</th>\n",
       "      <th>has_secondary_use_hotel</th>\n",
       "      <th>has_secondary_use_rental</th>\n",
       "      <th>has_secondary_use_institution</th>\n",
       "      <th>has_secondary_use_school</th>\n",
       "      <th>has_secondary_use_industry</th>\n",
       "      <th>has_secondary_use_health_post</th>\n",
       "      <th>has_secondary_use_gov_office</th>\n",
       "      <th>has_secondary_use_use_police</th>\n",
       "      <th>has_secondary_use_other</th>\n",
       "    </tr>\n",
       "  </thead>\n",
       "  <tbody>\n",
       "    <tr>\n",
       "      <th>0</th>\n",
       "      <td>120101000011</td>\n",
       "      <td>12</td>\n",
       "      <td>1207</td>\n",
       "      <td>120703</td>\n",
       "      <td>Private</td>\n",
       "      <td>1.0</td>\n",
       "      <td>0.0</td>\n",
       "      <td>0</td>\n",
       "      <td>0</td>\n",
       "      <td>0</td>\n",
       "      <td>0</td>\n",
       "      <td>0</td>\n",
       "      <td>0</td>\n",
       "      <td>0</td>\n",
       "      <td>0</td>\n",
       "      <td>0</td>\n",
       "      <td>0</td>\n",
       "    </tr>\n",
       "    <tr>\n",
       "      <th>1</th>\n",
       "      <td>120101000021</td>\n",
       "      <td>12</td>\n",
       "      <td>1207</td>\n",
       "      <td>120703</td>\n",
       "      <td>Private</td>\n",
       "      <td>1.0</td>\n",
       "      <td>0.0</td>\n",
       "      <td>0</td>\n",
       "      <td>0</td>\n",
       "      <td>0</td>\n",
       "      <td>0</td>\n",
       "      <td>0</td>\n",
       "      <td>0</td>\n",
       "      <td>0</td>\n",
       "      <td>0</td>\n",
       "      <td>0</td>\n",
       "      <td>0</td>\n",
       "    </tr>\n",
       "  </tbody>\n",
       "</table>\n",
       "</div>"
      ],
      "text/plain": [
       "    building_id  district_id  vdcmun_id  ward_id legal_ownership_status  \\\n",
       "0  120101000011           12       1207   120703                Private   \n",
       "1  120101000021           12       1207   120703                Private   \n",
       "\n",
       "   count_families  has_secondary_use  has_secondary_use_agriculture  \\\n",
       "0             1.0                0.0                              0   \n",
       "1             1.0                0.0                              0   \n",
       "\n",
       "   has_secondary_use_hotel  has_secondary_use_rental  \\\n",
       "0                        0                         0   \n",
       "1                        0                         0   \n",
       "\n",
       "   has_secondary_use_institution  has_secondary_use_school  \\\n",
       "0                              0                         0   \n",
       "1                              0                         0   \n",
       "\n",
       "   has_secondary_use_industry  has_secondary_use_health_post  \\\n",
       "0                           0                              0   \n",
       "1                           0                              0   \n",
       "\n",
       "   has_secondary_use_gov_office  has_secondary_use_use_police  \\\n",
       "0                             0                             0   \n",
       "1                             0                             0   \n",
       "\n",
       "   has_secondary_use_other  \n",
       "0                        0  \n",
       "1                        0  "
      ]
     },
     "execution_count": 14,
     "metadata": {},
     "output_type": "execute_result"
    }
   ],
   "source": [
    "ownership_data.head(2)"
   ]
  },
  {
   "cell_type": "code",
   "execution_count": 15,
   "id": "a5740154",
   "metadata": {},
   "outputs": [],
   "source": [
    "def feature_info(feature):\n",
    "    print('Unique values in the feature:',feature.unique())\n",
    "    print('No of Null values:',feature.isna().sum())"
   ]
  },
  {
   "cell_type": "code",
   "execution_count": 16,
   "id": "4715d042",
   "metadata": {},
   "outputs": [
    {
     "name": "stdout",
     "output_type": "stream",
     "text": [
      "Unique values in the feature: ['Moderate-Heavy' 'Severe-Extreme' 'Insignificant/light' nan 'None']\n",
      "No of Null values: 261363\n"
     ]
    }
   ],
   "source": [
    "feature_info(damage_data.damage_overall_collapse)"
   ]
  },
  {
   "cell_type": "code",
   "execution_count": 17,
   "id": "72143713",
   "metadata": {},
   "outputs": [
    {
     "name": "stdout",
     "output_type": "stream",
     "text": [
      "Unique values in the feature: ['Major repair' 'Reconstruction' 'Minor repair' 'No need' nan]\n",
      "No of Null values: 12\n"
     ]
    }
   ],
   "source": [
    "feature_info(damage_data.technical_solution_proposed)"
   ]
  },
  {
   "cell_type": "code",
   "execution_count": 18,
   "id": "8bf7a51c",
   "metadata": {},
   "outputs": [
    {
     "name": "stdout",
     "output_type": "stream",
     "text": [
      "Unique values in the feature: ['Grade 3' 'Grade 5' 'Grade 2' 'Grade 1' 'Grade 4' nan]\n",
      "No of Null values: 12\n"
     ]
    }
   ],
   "source": [
    "feature_info(damage_data.damage_grade)"
   ]
  },
  {
   "cell_type": "code",
   "execution_count": 19,
   "id": "e8eab353",
   "metadata": {},
   "outputs": [],
   "source": [
    "y_labels=damage_data['damage_grade']"
   ]
  },
  {
   "cell_type": "markdown",
   "id": "ab882857",
   "metadata": {},
   "source": [
    "# Preparing Data"
   ]
  },
  {
   "cell_type": "code",
   "execution_count": 20,
   "id": "4d1db7b2",
   "metadata": {},
   "outputs": [],
   "source": [
    "from functools import reduce\n",
    "df=[structure_data,ownership_data]\n",
    "raw_data=reduce(lambda left,right:pd.merge(left,right,on='building_id',how='inner'),df)"
   ]
  },
  {
   "cell_type": "code",
   "execution_count": 22,
   "id": "250ccca6",
   "metadata": {},
   "outputs": [
    {
     "data": {
      "text/plain": [
       "(762106, 45)"
      ]
     },
     "execution_count": 22,
     "metadata": {},
     "output_type": "execute_result"
    }
   ],
   "source": [
    "raw_data.shape"
   ]
  },
  {
   "cell_type": "code",
   "execution_count": 23,
   "id": "5e668dcd",
   "metadata": {},
   "outputs": [
    {
     "data": {
      "text/html": [
       "<div>\n",
       "<style scoped>\n",
       "    .dataframe tbody tr th:only-of-type {\n",
       "        vertical-align: middle;\n",
       "    }\n",
       "\n",
       "    .dataframe tbody tr th {\n",
       "        vertical-align: top;\n",
       "    }\n",
       "\n",
       "    .dataframe thead th {\n",
       "        text-align: right;\n",
       "    }\n",
       "</style>\n",
       "<table border=\"1\" class=\"dataframe\">\n",
       "  <thead>\n",
       "    <tr style=\"text-align: right;\">\n",
       "      <th></th>\n",
       "      <th>building_id</th>\n",
       "      <th>district_id_x</th>\n",
       "      <th>vdcmun_id_x</th>\n",
       "      <th>ward_id_x</th>\n",
       "      <th>count_floors_pre_eq</th>\n",
       "      <th>count_floors_post_eq</th>\n",
       "      <th>age_building</th>\n",
       "      <th>plinth_area_sq_ft</th>\n",
       "      <th>height_ft_pre_eq</th>\n",
       "      <th>height_ft_post_eq</th>\n",
       "      <th>...</th>\n",
       "      <th>has_secondary_use_agriculture</th>\n",
       "      <th>has_secondary_use_hotel</th>\n",
       "      <th>has_secondary_use_rental</th>\n",
       "      <th>has_secondary_use_institution</th>\n",
       "      <th>has_secondary_use_school</th>\n",
       "      <th>has_secondary_use_industry</th>\n",
       "      <th>has_secondary_use_health_post</th>\n",
       "      <th>has_secondary_use_gov_office</th>\n",
       "      <th>has_secondary_use_use_police</th>\n",
       "      <th>has_secondary_use_other</th>\n",
       "    </tr>\n",
       "  </thead>\n",
       "  <tbody>\n",
       "    <tr>\n",
       "      <th>0</th>\n",
       "      <td>120101000011</td>\n",
       "      <td>12</td>\n",
       "      <td>1207</td>\n",
       "      <td>120703</td>\n",
       "      <td>1</td>\n",
       "      <td>1</td>\n",
       "      <td>9</td>\n",
       "      <td>288</td>\n",
       "      <td>9</td>\n",
       "      <td>9</td>\n",
       "      <td>...</td>\n",
       "      <td>0</td>\n",
       "      <td>0</td>\n",
       "      <td>0</td>\n",
       "      <td>0</td>\n",
       "      <td>0</td>\n",
       "      <td>0</td>\n",
       "      <td>0</td>\n",
       "      <td>0</td>\n",
       "      <td>0</td>\n",
       "      <td>0</td>\n",
       "    </tr>\n",
       "    <tr>\n",
       "      <th>1</th>\n",
       "      <td>120101000021</td>\n",
       "      <td>12</td>\n",
       "      <td>1207</td>\n",
       "      <td>120703</td>\n",
       "      <td>1</td>\n",
       "      <td>1</td>\n",
       "      <td>15</td>\n",
       "      <td>364</td>\n",
       "      <td>9</td>\n",
       "      <td>9</td>\n",
       "      <td>...</td>\n",
       "      <td>0</td>\n",
       "      <td>0</td>\n",
       "      <td>0</td>\n",
       "      <td>0</td>\n",
       "      <td>0</td>\n",
       "      <td>0</td>\n",
       "      <td>0</td>\n",
       "      <td>0</td>\n",
       "      <td>0</td>\n",
       "      <td>0</td>\n",
       "    </tr>\n",
       "    <tr>\n",
       "      <th>2</th>\n",
       "      <td>120101000031</td>\n",
       "      <td>12</td>\n",
       "      <td>1207</td>\n",
       "      <td>120703</td>\n",
       "      <td>1</td>\n",
       "      <td>1</td>\n",
       "      <td>20</td>\n",
       "      <td>384</td>\n",
       "      <td>9</td>\n",
       "      <td>9</td>\n",
       "      <td>...</td>\n",
       "      <td>0</td>\n",
       "      <td>0</td>\n",
       "      <td>0</td>\n",
       "      <td>0</td>\n",
       "      <td>0</td>\n",
       "      <td>0</td>\n",
       "      <td>0</td>\n",
       "      <td>0</td>\n",
       "      <td>0</td>\n",
       "      <td>0</td>\n",
       "    </tr>\n",
       "    <tr>\n",
       "      <th>3</th>\n",
       "      <td>120101000041</td>\n",
       "      <td>12</td>\n",
       "      <td>1207</td>\n",
       "      <td>120703</td>\n",
       "      <td>1</td>\n",
       "      <td>1</td>\n",
       "      <td>20</td>\n",
       "      <td>312</td>\n",
       "      <td>9</td>\n",
       "      <td>9</td>\n",
       "      <td>...</td>\n",
       "      <td>0</td>\n",
       "      <td>0</td>\n",
       "      <td>0</td>\n",
       "      <td>0</td>\n",
       "      <td>0</td>\n",
       "      <td>0</td>\n",
       "      <td>0</td>\n",
       "      <td>0</td>\n",
       "      <td>0</td>\n",
       "      <td>0</td>\n",
       "    </tr>\n",
       "    <tr>\n",
       "      <th>4</th>\n",
       "      <td>120101000051</td>\n",
       "      <td>12</td>\n",
       "      <td>1207</td>\n",
       "      <td>120703</td>\n",
       "      <td>1</td>\n",
       "      <td>1</td>\n",
       "      <td>30</td>\n",
       "      <td>308</td>\n",
       "      <td>9</td>\n",
       "      <td>9</td>\n",
       "      <td>...</td>\n",
       "      <td>0</td>\n",
       "      <td>0</td>\n",
       "      <td>0</td>\n",
       "      <td>0</td>\n",
       "      <td>0</td>\n",
       "      <td>0</td>\n",
       "      <td>0</td>\n",
       "      <td>0</td>\n",
       "      <td>0</td>\n",
       "      <td>0</td>\n",
       "    </tr>\n",
       "  </tbody>\n",
       "</table>\n",
       "<p>5 rows × 45 columns</p>\n",
       "</div>"
      ],
      "text/plain": [
       "    building_id  district_id_x  vdcmun_id_x  ward_id_x  count_floors_pre_eq  \\\n",
       "0  120101000011             12         1207     120703                    1   \n",
       "1  120101000021             12         1207     120703                    1   \n",
       "2  120101000031             12         1207     120703                    1   \n",
       "3  120101000041             12         1207     120703                    1   \n",
       "4  120101000051             12         1207     120703                    1   \n",
       "\n",
       "   count_floors_post_eq  age_building  plinth_area_sq_ft  height_ft_pre_eq  \\\n",
       "0                     1             9                288                 9   \n",
       "1                     1            15                364                 9   \n",
       "2                     1            20                384                 9   \n",
       "3                     1            20                312                 9   \n",
       "4                     1            30                308                 9   \n",
       "\n",
       "   height_ft_post_eq  ... has_secondary_use_agriculture  \\\n",
       "0                  9  ...                             0   \n",
       "1                  9  ...                             0   \n",
       "2                  9  ...                             0   \n",
       "3                  9  ...                             0   \n",
       "4                  9  ...                             0   \n",
       "\n",
       "  has_secondary_use_hotel has_secondary_use_rental  \\\n",
       "0                       0                        0   \n",
       "1                       0                        0   \n",
       "2                       0                        0   \n",
       "3                       0                        0   \n",
       "4                       0                        0   \n",
       "\n",
       "  has_secondary_use_institution has_secondary_use_school  \\\n",
       "0                             0                        0   \n",
       "1                             0                        0   \n",
       "2                             0                        0   \n",
       "3                             0                        0   \n",
       "4                             0                        0   \n",
       "\n",
       "  has_secondary_use_industry has_secondary_use_health_post  \\\n",
       "0                          0                             0   \n",
       "1                          0                             0   \n",
       "2                          0                             0   \n",
       "3                          0                             0   \n",
       "4                          0                             0   \n",
       "\n",
       "   has_secondary_use_gov_office  has_secondary_use_use_police  \\\n",
       "0                             0                             0   \n",
       "1                             0                             0   \n",
       "2                             0                             0   \n",
       "3                             0                             0   \n",
       "4                             0                             0   \n",
       "\n",
       "   has_secondary_use_other  \n",
       "0                        0  \n",
       "1                        0  \n",
       "2                        0  \n",
       "3                        0  \n",
       "4                        0  \n",
       "\n",
       "[5 rows x 45 columns]"
      ]
     },
     "execution_count": 23,
     "metadata": {},
     "output_type": "execute_result"
    }
   ],
   "source": [
    "raw_data.head()"
   ]
  },
  {
   "cell_type": "code",
   "execution_count": 24,
   "id": "2c2aeabc",
   "metadata": {},
   "outputs": [],
   "source": [
    "raw_data=raw_data.rename(index=str,columns={'district_id_x':'geo1','vdcmun_id_x':'geo2','ward_id_x':'geo3'})"
   ]
  },
  {
   "cell_type": "code",
   "execution_count": 25,
   "id": "3a67fa6e",
   "metadata": {},
   "outputs": [
    {
     "data": {
      "text/plain": [
       "Index(['building_id', 'geo1', 'geo2', 'geo3', 'count_floors_pre_eq',\n",
       "       'count_floors_post_eq', 'age_building', 'plinth_area_sq_ft',\n",
       "       'height_ft_pre_eq', 'height_ft_post_eq', 'land_surface_condition',\n",
       "       'foundation_type', 'roof_type', 'ground_floor_type', 'other_floor_type',\n",
       "       'position', 'plan_configuration', 'has_superstructure_adobe_mud',\n",
       "       'has_superstructure_mud_mortar_stone', 'has_superstructure_stone_flag',\n",
       "       'has_superstructure_cement_mortar_stone',\n",
       "       'has_superstructure_mud_mortar_brick',\n",
       "       'has_superstructure_cement_mortar_brick', 'has_superstructure_timber',\n",
       "       'has_superstructure_bamboo', 'has_superstructure_rc_non_engineered',\n",
       "       'has_superstructure_rc_engineered', 'has_superstructure_other',\n",
       "       'damage_grade', 'district_id_y', 'vdcmun_id_y', 'ward_id_y',\n",
       "       'legal_ownership_status', 'count_families', 'has_secondary_use',\n",
       "       'has_secondary_use_agriculture', 'has_secondary_use_hotel',\n",
       "       'has_secondary_use_rental', 'has_secondary_use_institution',\n",
       "       'has_secondary_use_school', 'has_secondary_use_industry',\n",
       "       'has_secondary_use_health_post', 'has_secondary_use_gov_office',\n",
       "       'has_secondary_use_use_police', 'has_secondary_use_other'],\n",
       "      dtype='object')"
      ]
     },
     "execution_count": 25,
     "metadata": {},
     "output_type": "execute_result"
    }
   ],
   "source": [
    "raw_data.columns"
   ]
  },
  {
   "cell_type": "code",
   "execution_count": 26,
   "id": "009d500f",
   "metadata": {},
   "outputs": [],
   "source": [
    "cols_to_drop=['district_id_y', 'vdcmun_id_y', 'ward_id_y']"
   ]
  },
  {
   "cell_type": "code",
   "execution_count": 27,
   "id": "f32a0fcb",
   "metadata": {},
   "outputs": [],
   "source": [
    "raw_data=raw_data.drop(cols_to_drop,axis=1)"
   ]
  },
  {
   "cell_type": "code",
   "execution_count": 28,
   "id": "9af445fb",
   "metadata": {},
   "outputs": [
    {
     "data": {
      "text/plain": [
       "building_id                                0\n",
       "geo1                                       0\n",
       "geo2                                       0\n",
       "geo3                                       0\n",
       "count_floors_pre_eq                        0\n",
       "count_floors_post_eq                       0\n",
       "age_building                               0\n",
       "plinth_area_sq_ft                          0\n",
       "height_ft_pre_eq                           0\n",
       "height_ft_post_eq                          0\n",
       "land_surface_condition                     0\n",
       "foundation_type                            0\n",
       "roof_type                                  0\n",
       "ground_floor_type                          0\n",
       "other_floor_type                           0\n",
       "position                                   1\n",
       "plan_configuration                         1\n",
       "has_superstructure_adobe_mud               0\n",
       "has_superstructure_mud_mortar_stone        0\n",
       "has_superstructure_stone_flag              0\n",
       "has_superstructure_cement_mortar_stone     0\n",
       "has_superstructure_mud_mortar_brick        0\n",
       "has_superstructure_cement_mortar_brick     0\n",
       "has_superstructure_timber                  0\n",
       "has_superstructure_bamboo                  0\n",
       "has_superstructure_rc_non_engineered       0\n",
       "has_superstructure_rc_engineered           0\n",
       "has_superstructure_other                   0\n",
       "damage_grade                              12\n",
       "legal_ownership_status                     0\n",
       "count_families                             2\n",
       "has_secondary_use                         10\n",
       "has_secondary_use_agriculture              0\n",
       "has_secondary_use_hotel                    0\n",
       "has_secondary_use_rental                   0\n",
       "has_secondary_use_institution              0\n",
       "has_secondary_use_school                   0\n",
       "has_secondary_use_industry                 0\n",
       "has_secondary_use_health_post              0\n",
       "has_secondary_use_gov_office               0\n",
       "has_secondary_use_use_police               0\n",
       "has_secondary_use_other                    0\n",
       "dtype: int64"
      ]
     },
     "execution_count": 28,
     "metadata": {},
     "output_type": "execute_result"
    }
   ],
   "source": [
    "raw_data.isna().sum()"
   ]
  },
  {
   "cell_type": "code",
   "execution_count": 29,
   "id": "7d831b5e",
   "metadata": {},
   "outputs": [
    {
     "data": {
      "text/plain": [
       "building_id                               0\n",
       "geo1                                      0\n",
       "geo2                                      0\n",
       "geo3                                      0\n",
       "count_floors_pre_eq                       0\n",
       "count_floors_post_eq                      0\n",
       "age_building                              0\n",
       "plinth_area_sq_ft                         0\n",
       "height_ft_pre_eq                          0\n",
       "height_ft_post_eq                         0\n",
       "land_surface_condition                    0\n",
       "foundation_type                           0\n",
       "roof_type                                 0\n",
       "ground_floor_type                         0\n",
       "other_floor_type                          0\n",
       "position                                  0\n",
       "plan_configuration                        0\n",
       "has_superstructure_adobe_mud              0\n",
       "has_superstructure_mud_mortar_stone       0\n",
       "has_superstructure_stone_flag             0\n",
       "has_superstructure_cement_mortar_stone    0\n",
       "has_superstructure_mud_mortar_brick       0\n",
       "has_superstructure_cement_mortar_brick    0\n",
       "has_superstructure_timber                 0\n",
       "has_superstructure_bamboo                 0\n",
       "has_superstructure_rc_non_engineered      0\n",
       "has_superstructure_rc_engineered          0\n",
       "has_superstructure_other                  0\n",
       "damage_grade                              0\n",
       "legal_ownership_status                    0\n",
       "count_families                            0\n",
       "has_secondary_use                         0\n",
       "has_secondary_use_agriculture             0\n",
       "has_secondary_use_hotel                   0\n",
       "has_secondary_use_rental                  0\n",
       "has_secondary_use_institution             0\n",
       "has_secondary_use_school                  0\n",
       "has_secondary_use_industry                0\n",
       "has_secondary_use_health_post             0\n",
       "has_secondary_use_gov_office              0\n",
       "has_secondary_use_use_police              0\n",
       "has_secondary_use_other                   0\n",
       "dtype: int64"
      ]
     },
     "execution_count": 29,
     "metadata": {},
     "output_type": "execute_result"
    }
   ],
   "source": [
    "#Removing Null Values\n",
    "final_data=raw_data.dropna(axis=0)\n",
    "final_data.isna().sum()"
   ]
  },
  {
   "cell_type": "code",
   "execution_count": 30,
   "id": "a0a130d3",
   "metadata": {},
   "outputs": [
    {
     "name": "stdout",
     "output_type": "stream",
     "text": [
      "Unique values in the feature: ['Grade 3' 'Grade 5' 'Grade 2' 'Grade 1' 'Grade 4' nan]\n",
      "No of Null values: 12\n"
     ]
    }
   ],
   "source": [
    "feature_info(raw_data.damage_grade)"
   ]
  },
  {
   "cell_type": "code",
   "execution_count": 32,
   "id": "e9c8b5b0",
   "metadata": {},
   "outputs": [
    {
     "data": {
      "text/plain": [
       "762093"
      ]
     },
     "execution_count": 32,
     "metadata": {},
     "output_type": "execute_result"
    }
   ],
   "source": [
    "y_labels=final_data.damage_grade\n",
    "len(y_labels)"
   ]
  },
  {
   "cell_type": "code",
   "execution_count": 33,
   "id": "1df5ee76",
   "metadata": {},
   "outputs": [
    {
     "name": "stdout",
     "output_type": "stream",
     "text": [
      "Shape of final raw data matrix: (762093, 42)\n",
      "No of labels: 762093\n",
      "Unique values in the feature: ['Grade 3' 'Grade 5' 'Grade 2' 'Grade 1' 'Grade 4']\n",
      "No of Null values: 0\n"
     ]
    }
   ],
   "source": [
    "print('Shape of final raw data matrix:',final_data.shape)\n",
    "print('No of labels:',len(y_labels))\n",
    "feature_info(final_data.damage_grade)"
   ]
  },
  {
   "cell_type": "code",
   "execution_count": 34,
   "id": "1989edfe",
   "metadata": {},
   "outputs": [
    {
     "name": "stdout",
     "output_type": "stream",
     "text": [
      "Unique values in the feature: ['Flat' 'Moderate slope' 'Steep slope']\n",
      "No of Null values: 0\n"
     ]
    }
   ],
   "source": [
    "feature_info(final_data.land_surface_condition)"
   ]
  },
  {
   "cell_type": "markdown",
   "id": "4891738f",
   "metadata": {},
   "source": [
    "# Preprocessing Categorical Variables"
   ]
  },
  {
   "cell_type": "code",
   "execution_count": 35,
   "id": "6ab6c947",
   "metadata": {},
   "outputs": [],
   "source": [
    "final_data.land_surface_condition=final_data.land_surface_condition.map({'Flat':'Flat','Moderate slope':'Modarate_slope','Steep slope':'steep_slope'})"
   ]
  },
  {
   "cell_type": "code",
   "execution_count": 36,
   "id": "3975edc2",
   "metadata": {},
   "outputs": [
    {
     "name": "stdout",
     "output_type": "stream",
     "text": [
      "Unique values in the feature: ['Other' 'Mud mortar-Stone/Brick' 'Cement-Stone/Brick' 'Bamboo/Timber'\n",
      " 'RC']\n",
      "No of Null values: 0\n"
     ]
    }
   ],
   "source": [
    "feature_info(final_data.foundation_type)\n"
   ]
  },
  {
   "cell_type": "code",
   "execution_count": 37,
   "id": "d55edc12",
   "metadata": {},
   "outputs": [
    {
     "name": "stdout",
     "output_type": "stream",
     "text": [
      "Unique values in the feature: ['Bamboo/Timber-Light roof' 'Bamboo/Timber-Heavy roof' 'RCC/RB/RBC']\n",
      "No of Null values: 0\n"
     ]
    }
   ],
   "source": [
    "feature_info(final_data.roof_type)"
   ]
  },
  {
   "cell_type": "code",
   "execution_count": 38,
   "id": "fef10f43",
   "metadata": {},
   "outputs": [
    {
     "name": "stdout",
     "output_type": "stream",
     "text": [
      "Unique values in the feature: ['Mud' 'Brick/Stone' 'RC' 'Timber' 'Other']\n",
      "No of Null values: 0\n"
     ]
    }
   ],
   "source": [
    "feature_info(final_data.ground_floor_type)"
   ]
  },
  {
   "cell_type": "code",
   "execution_count": 39,
   "id": "d3d15bb3",
   "metadata": {},
   "outputs": [
    {
     "name": "stdout",
     "output_type": "stream",
     "text": [
      "Unique values in the feature: ['Not applicable' 'TImber/Bamboo-Mud' 'Timber-Planck' 'RCC/RB/RBC']\n",
      "No of Null values: 0\n"
     ]
    }
   ],
   "source": [
    "feature_info(final_data.other_floor_type)"
   ]
  },
  {
   "cell_type": "code",
   "execution_count": 40,
   "id": "25168a2c",
   "metadata": {},
   "outputs": [
    {
     "name": "stdout",
     "output_type": "stream",
     "text": [
      "Unique values in the feature: ['Private' 'Other' 'Institutional' 'Public']\n",
      "No of Null values: 0\n"
     ]
    }
   ],
   "source": [
    "feature_info(final_data.legal_ownership_status)"
   ]
  },
  {
   "cell_type": "code",
   "execution_count": 41,
   "id": "8886a3c2",
   "metadata": {},
   "outputs": [
    {
     "name": "stdout",
     "output_type": "stream",
     "text": [
      "Unique values in the feature: ['Not attached' 'Attached-1 side' 'Attached-2 side' 'Attached-3 side']\n",
      "No of Null values: 0\n"
     ]
    }
   ],
   "source": [
    "feature_info(final_data.position)"
   ]
  },
  {
   "cell_type": "code",
   "execution_count": 42,
   "id": "e4d08c82",
   "metadata": {},
   "outputs": [
    {
     "name": "stdout",
     "output_type": "stream",
     "text": [
      "Unique values in the feature: ['Rectangular' 'L-shape' 'Square' 'T-shape' 'Multi-projected' 'H-shape'\n",
      " 'U-shape' 'Others' 'E-shape' 'Building with Central Courtyard']\n",
      "No of Null values: 0\n"
     ]
    }
   ],
   "source": [
    "feature_info(final_data.plan_configuration)"
   ]
  },
  {
   "cell_type": "code",
   "execution_count": 43,
   "id": "b71aee63",
   "metadata": {},
   "outputs": [
    {
     "name": "stdout",
     "output_type": "stream",
     "text": [
      "Unique values in the feature: ['Private' 'Other' 'Institutional' 'Public']\n",
      "No of Null values: 0\n"
     ]
    }
   ],
   "source": [
    "feature_info(final_data.legal_ownership_status)"
   ]
  },
  {
   "cell_type": "code",
   "execution_count": 44,
   "id": "af8de994",
   "metadata": {},
   "outputs": [],
   "source": [
    "final_data.foundation_type=final_data.foundation_type.map({'Mud mortar-Stone/Brick':'Mud_stone_OR_brick','Cement-Stone/Brick':'Cement_stone_OR_brick', 'Bamboo/Timber':'Bamboo_OR_Timber','Other':'Other','RC':'RC'})\n",
    "final_data.roof_type=final_data.roof_type.map({'Bamboo/Timber-Light roof':'wood_light','Bamboo/Timber-Heavy roof':'wood_heavy','RCC/RB/RBC':'RCC_RB_RBC'})\n",
    "final_data.ground_floor_type=final_data.ground_floor_type.map({'Brick/Stone':'Brick_or_Stone','Mud':'Mud','RC':'RC','Timber':'Timber','Other':'Other'})\n",
    "final_data.other_floor_type=final_data.other_floor_type.map({'Not applicable':'NotApplicable','TImber/Bamboo-Mud':'wood_mud','Timber-Planck':'Timber_Planck','RCC/RB/RBC':'RCC_RB_RBC'})\n",
    "final_data.position=final_data.position.map({'Not attached':'Not_attached','Attached-1 side':'Attached_1_side','Attached-2 side':'Attached_2_side', 'Attached-3 side':'Attached_3_side'})\n",
    "final_data.plan_configuration=final_data.plan_configuration.map(\n",
    "{\n",
    " 'Rectangular':'Rectangular','L-shape':'L_Shape','Square':'Square','T-shape':'T_Shape','Multi-projected':'Multi_projected',\n",
    "    'H-shape':'H_Shape','U-shape':'U_Shape','Others':'Others','E-shape':'E_Shape','Building with Central Courtyard':'Central_Courtyard'   \n",
    "    \n",
    "})"
   ]
  },
  {
   "cell_type": "code",
   "execution_count": 45,
   "id": "10b024ad",
   "metadata": {},
   "outputs": [
    {
     "name": "stdout",
     "output_type": "stream",
     "text": [
      "Categorical Feature Check after Preprocessing:\n",
      "---------------------------------------------\n",
      "Feature Name: land_surface_condition\n",
      "Unique values in the feature: ['Flat' 'Modarate_slope' 'steep_slope']\n",
      "No of Null values: 0\n",
      "----------------------------------------\n",
      "Feature Name: foundation_type\n",
      "Unique values in the feature: ['Other' 'Mud_stone_OR_brick' 'Cement_stone_OR_brick' 'Bamboo_OR_Timber'\n",
      " 'RC']\n",
      "No of Null values: 0\n",
      "----------------------------------------\n",
      "Feature Name: roof_type\n",
      "Unique values in the feature: ['wood_light' 'wood_heavy' 'RCC_RB_RBC']\n",
      "No of Null values: 0\n",
      "----------------------------------------\n",
      "Feature Name: ground_floor_type\n",
      "Unique values in the feature: ['Mud' 'Brick_or_Stone' 'RC' 'Timber' 'Other']\n",
      "No of Null values: 0\n",
      "----------------------------------------\n",
      "Feature Name: other_floor_type\n",
      "Unique values in the feature: ['NotApplicable' 'wood_mud' 'Timber_Planck' 'RCC_RB_RBC']\n",
      "No of Null values: 0\n",
      "----------------------------------------\n",
      "Feature Name: legal_ownership_status\n",
      "Unique values in the feature: ['Private' 'Other' 'Institutional' 'Public']\n",
      "No of Null values: 0\n",
      "----------------------------------------\n",
      "Feature Name: position\n",
      "Unique values in the feature: ['Not_attached' 'Attached_1_side' 'Attached_2_side' 'Attached_3_side']\n",
      "No of Null values: 0\n",
      "----------------------------------------\n",
      "Feature Name: plan_configuration\n",
      "Unique values in the feature: ['Rectangular' 'L_Shape' 'Square' 'T_Shape' 'Multi_projected' 'H_Shape'\n",
      " 'U_Shape' 'Others' 'E_Shape' 'Central_Courtyard']\n",
      "No of Null values: 0\n",
      "----------------------------------------\n",
      "Feature Name: legal_ownership_status\n",
      "Unique values in the feature: ['Private' 'Other' 'Institutional' 'Public']\n",
      "No of Null values: 0\n",
      "----------------------------------------\n"
     ]
    }
   ],
   "source": [
    "cat_var=['land_surface_condition','foundation_type','roof_type','ground_floor_type','other_floor_type','legal_ownership_status'\n",
    " ,'position','plan_configuration','legal_ownership_status']\n",
    "print('Categorical Feature Check after Preprocessing:')\n",
    "print('---------------------------------------------')\n",
    "for cat in cat_var:\n",
    "    print('Feature Name:',cat)\n",
    "    feature_info(final_data[cat])\n",
    "    print('----------------------------------------')"
   ]
  },
  {
   "cell_type": "markdown",
   "id": "c6c8b967",
   "metadata": {},
   "source": [
    "# Train and Test Data"
   ]
  },
  {
   "cell_type": "code",
   "execution_count": 48,
   "id": "16099a36",
   "metadata": {},
   "outputs": [],
   "source": [
    "train_data,test_data,y_train,y_test=train_test_split(final_data,y_labels,stratify=y_labels,test_size=0.2)"
   ]
  },
  {
   "cell_type": "code",
   "execution_count": 49,
   "id": "8f166e5b",
   "metadata": {},
   "outputs": [
    {
     "name": "stdout",
     "output_type": "stream",
     "text": [
      "Shape of train data: (609674, 42)\n",
      "Shape of test data: (152419, 42)\n"
     ]
    }
   ],
   "source": [
    "print('Shape of train data:',train_data.shape)\n",
    "print('Shape of test data:',test_data.shape)"
   ]
  },
  {
   "cell_type": "code",
   "execution_count": 50,
   "id": "6b1ffb6b",
   "metadata": {},
   "outputs": [
    {
     "name": "stdout",
     "output_type": "stream",
     "text": [
      "Unique values in the feature: ['Grade 5' 'Grade 3' 'Grade 1' 'Grade 4' 'Grade 2']\n",
      "No of Null values: 0\n",
      "Unique values in the feature: ['Grade 3' 'Grade 5' 'Grade 2' 'Grade 4' 'Grade 1']\n",
      "No of Null values: 0\n"
     ]
    }
   ],
   "source": [
    "feature_info(train_data['damage_grade'])\n",
    "feature_info(test_data['damage_grade'])"
   ]
  },
  {
   "cell_type": "code",
   "execution_count": 51,
   "id": "ec070077",
   "metadata": {},
   "outputs": [],
   "source": [
    "# We will convert class labels in to 3 classes,if damage grade 1-2:Low,3:Medium,4-5:High\n",
    "# We will Convert class label to numeric values where 1:low,2:medium,3:high in final_data\n",
    "train_data.damage_grade=train_data.damage_grade.map({'Grade 5':3,'Grade 4':3,'Grade 1':1, 'Grade 3':2, 'Grade 2':1})\n",
    "test_data.damage_grade=test_data.damage_grade.map({'Grade 5':3,'Grade 4':3,'Grade 1':1, 'Grade 3':2, 'Grade 2':1})"
   ]
  },
  {
   "cell_type": "code",
   "execution_count": 52,
   "id": "fdf5eac2",
   "metadata": {},
   "outputs": [
    {
     "name": "stdout",
     "output_type": "stream",
     "text": [
      "Unique values in the feature: [3 2 1]\n",
      "No of Null values: 0\n",
      "Unique values in the feature: [2 3 1]\n",
      "No of Null values: 0\n"
     ]
    }
   ],
   "source": [
    "feature_info(train_data['damage_grade'])\n",
    "feature_info(test_data['damage_grade'])"
   ]
  },
  {
   "cell_type": "code",
   "execution_count": 53,
   "id": "93e54f07",
   "metadata": {},
   "outputs": [
    {
     "name": "stdout",
     "output_type": "stream",
     "text": [
      "No of duplicates in train: 0\n",
      "No of duplicates in test : 0\n"
     ]
    }
   ],
   "source": [
    "# final check for duplicate values\n",
    "print('No of duplicates in train: {}'.format(sum(train_data.duplicated(['building_id']))))\n",
    "print('No of duplicates in test : {}'.format(sum(test_data.duplicated())))"
   ]
  },
  {
   "cell_type": "markdown",
   "id": "fd6ebc03",
   "metadata": {},
   "source": [
    "# Export the Data"
   ]
  },
  {
   "cell_type": "code",
   "execution_count": 54,
   "id": "8063a403",
   "metadata": {},
   "outputs": [
    {
     "name": "stdout",
     "output_type": "stream",
     "text": [
      "Export Start....\n",
      "Export End.\n"
     ]
    }
   ],
   "source": [
    "train_labels=pd.DataFrame({'Labels':y_train})\n",
    "test_labels=pd.DataFrame({'Labels':y_test})\n",
    "print('Export Start....')\n",
    "train_data.to_csv('train_values.csv',index=False)\n",
    "test_data.to_csv('test_values.csv',index=False)\n",
    "train_labels.to_csv('train_labels.csv',index=False)\n",
    "test_labels.to_csv('test_labels.csv',index=False)\n",
    "print('Export End.')"
   ]
  },
  {
   "cell_type": "code",
   "execution_count": null,
   "id": "18ddf71a",
   "metadata": {},
   "outputs": [],
   "source": []
  }
 ],
 "metadata": {
  "kernelspec": {
   "display_name": "Python 3 (ipykernel)",
   "language": "python",
   "name": "python3"
  },
  "language_info": {
   "codemirror_mode": {
    "name": "ipython",
    "version": 3
   },
   "file_extension": ".py",
   "mimetype": "text/x-python",
   "name": "python",
   "nbconvert_exporter": "python",
   "pygments_lexer": "ipython3",
   "version": "3.9.7"
  }
 },
 "nbformat": 4,
 "nbformat_minor": 5
}
